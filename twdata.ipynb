{
 "cells": [
  {
   "cell_type": "code",
   "execution_count": 13,
   "id": "86e799dd-126e-40e3-a0f2-73f240881cc6",
   "metadata": {},
   "outputs": [],
   "source": [
    "import snscrape.modules.twitter as sntwitter\n",
    "import pandas as pd\n",
    "\n",
    "tweets_list1 = []\n",
    "\n",
    "for i,tweet in enumerate(sntwitter.TwitterSearchScraper('from:elonmusk').get_items()):\n",
    "    if i>300:\n",
    "        break\n",
    "    tweets_list1.append([tweet.date, tweet.id, tweet.content, tweet.user.username])\n",
    "\n",
    "tweets_df1 = pd.DataFrame(tweets_list1, columns=['Datetime', 'Tweet Id', 'Text', 'Username'])"
   ]
  },
  {
   "cell_type": "code",
   "execution_count": 20,
   "id": "cc66c6c6-8b5e-4e4f-9fd7-9a72df3346aa",
   "metadata": {},
   "outputs": [
    {
     "name": "stdout",
     "output_type": "stream",
     "text": [
      "                    Datetime             Tweet Id  \\\n",
      "0  2022-05-19 22:27:00+00:00  1527415552435703823   \n",
      "1  2022-05-19 22:21:37+00:00  1527414199260958723   \n",
      "2  2022-05-19 21:15:32+00:00  1527397566727561217   \n",
      "3  2022-05-19 21:14:47+00:00  1527397380001234944   \n",
      "4  2022-05-19 18:30:42+00:00  1527356085090545664   \n",
      "5  2022-05-19 17:56:22+00:00  1527347447822815232   \n",
      "6  2022-05-19 17:46:32+00:00  1527344969471520768   \n",
      "7  2022-05-19 17:40:45+00:00  1527343513867735042   \n",
      "8  2022-05-19 17:34:23+00:00  1527341913736564755   \n",
      "9  2022-05-19 17:33:36+00:00  1527341716512002065   \n",
      "10 2022-05-19 17:14:32+00:00  1527336918244941838   \n",
      "11 2022-05-19 16:04:11+00:00  1527319216105619458   \n",
      "12 2022-05-19 16:03:29+00:00  1527319036966899718   \n",
      "13 2022-05-19 15:58:15+00:00  1527317718931677186   \n",
      "14 2022-05-19 15:53:24+00:00  1527316499513622533   \n",
      "15 2022-05-19 15:51:58+00:00  1527316140602494976   \n",
      "16 2022-05-19 15:48:35+00:00  1527315290132185088   \n",
      "17 2022-05-19 14:48:54+00:00  1527300269100662785   \n",
      "18 2022-05-19 14:38:57+00:00  1527297765599981574   \n",
      "19 2022-05-19 07:12:07+00:00  1527185313919127553   \n",
      "\n",
      "                                                 Text  Username  \n",
      "0                           @WholeMarsBlog Big update  elonmusk  \n",
      "1                                  @WholeMarsBlog Yup  elonmusk  \n",
      "2   @historydefined I think I saw that boss in Eld...  elonmusk  \n",
      "3                             https://t.co/UZKs5s6BZJ  elonmusk  \n",
      "4   @Astro_Angry Unless it is stopped, the woke mi...  elonmusk  \n",
      "5                             https://t.co/fdy0nedGMs  elonmusk  \n",
      "6                             https://t.co/4W8COjWv16  elonmusk  \n",
      "7                  Wise words https://t.co/NTGIukXPgM  elonmusk  \n",
      "8   Good night, sweet maestro, and flights of ange...  elonmusk  \n",
      "9                           @nichegamer A true genius  elonmusk  \n",
      "10                      @ArtLightstone It’s true haha  elonmusk  \n",
      "11                                @El__Bohemio Indeed  elonmusk  \n",
      "12  @GailAlfarATX I suggest no parties and just di...  elonmusk  \n",
      "13  This is what most people in America want, but ...  elonmusk  \n",
      "14                          @harsimranbansal For sure  elonmusk  \n",
      "15  @WholeMarsBlog This is a big one! Expect some ...  elonmusk  \n",
      "16  A party more moderate on all issues than eithe...  elonmusk  \n",
      "17  @redletterdave I was (obv) joking at the time,...  elonmusk  \n",
      "18  Judging by the relentless hatestream from the ...  elonmusk  \n",
      "19                            https://t.co/E1IacL9wfN  elonmusk  \n"
     ]
    }
   ],
   "source": [
    "print(tweets_df1.head(20))"
   ]
  },
  {
   "cell_type": "code",
   "execution_count": 22,
   "id": "14cd61d8-a0be-4965-91ff-5b04bd72e02a",
   "metadata": {},
   "outputs": [
    {
     "data": {
      "text/plain": [
       "(301, 4)"
      ]
     },
     "execution_count": 22,
     "metadata": {},
     "output_type": "execute_result"
    }
   ],
   "source": [
    "tweets_df1.shape"
   ]
  },
  {
   "cell_type": "code",
   "execution_count": null,
   "id": "a0f5f0ec-612c-4dcc-a69a-1e4b4a27916e",
   "metadata": {},
   "outputs": [],
   "source": [
    "csv_file=tweets_df1.to_csv(\"elonmusk.csv\")"
   ]
  },
  {
   "cell_type": "code",
   "execution_count": null,
   "id": "b9a940ca-71df-406c-b5d2-d044dd7290e5",
   "metadata": {},
   "outputs": [],
   "source": []
  }
 ],
 "metadata": {
  "kernelspec": {
   "display_name": "Python 3 (ipykernel)",
   "language": "python",
   "name": "python3"
  },
  "language_info": {
   "codemirror_mode": {
    "name": "ipython",
    "version": 3
   },
   "file_extension": ".py",
   "mimetype": "text/x-python",
   "name": "python",
   "nbconvert_exporter": "python",
   "pygments_lexer": "ipython3",
   "version": "3.9.7"
  }
 },
 "nbformat": 4,
 "nbformat_minor": 5
}
